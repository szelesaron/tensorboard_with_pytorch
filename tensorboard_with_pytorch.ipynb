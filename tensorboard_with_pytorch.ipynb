{
 "cells": [
  {
   "cell_type": "markdown",
   "metadata": {},
   "source": [
    "### Setting directory"
   ]
  },
  {
   "cell_type": "code",
   "execution_count": 58,
   "metadata": {},
   "outputs": [
    {
     "name": "stdout",
     "output_type": "stream",
     "text": [
      "C:\\Users\\Áron\\Desktop\n"
     ]
    }
   ],
   "source": [
    "%cd C:\\Users\\Áron\\Desktop"
   ]
  },
  {
   "cell_type": "markdown",
   "metadata": {},
   "source": [
    "### Imports\n"
   ]
  },
  {
   "cell_type": "code",
   "execution_count": 8,
   "metadata": {},
   "outputs": [
    {
     "name": "stdout",
     "output_type": "stream",
     "text": [
      "1.5.0\n"
     ]
    }
   ],
   "source": [
    "import numpy as np\n",
    "import torch\n",
    "import torchvision\n",
    "import torchvision.transforms as transforms\n",
    "import torch.nn as nn\n",
    "import torch.optim as optim\n",
    "import torch.nn.functional as F\n",
    "from torch.utils.tensorboard import SummaryWriter\n",
    "print(torch.__version__)\n",
    "\n",
    "import warnings\n",
    "warnings.filterwarnings('ignore')"
   ]
  },
  {
   "cell_type": "code",
   "execution_count": 9,
   "metadata": {},
   "outputs": [],
   "source": [
    "dataset = torchvision.datasets.MNIST(\n",
    "            root=\"./data/MNIST\",\n",
    "            train = True,\n",
    "            download = True,\n",
    "            transform = transforms.Compose([transforms.ToTensor()]))"
   ]
  },
  {
   "cell_type": "markdown",
   "metadata": {},
   "source": [
    "### Buliding model"
   ]
  },
  {
   "cell_type": "code",
   "execution_count": 10,
   "metadata": {},
   "outputs": [],
   "source": [
    "class Network(nn.Module):\n",
    "    def __init__(self):\n",
    "        super(Network,self).__init__()\n",
    "        \n",
    "        self.convolutional_1 = nn.Conv2d(in_channels = 1, out_channels = 6, kernel_size= 5)\n",
    "        self.convolutional_2 = nn.Conv2d(in_channels = 6, out_channels = 12, kernel_size= 5)\n",
    "        \n",
    "        self.fully_connected_1 = nn.Linear(in_features = 12*4*4, out_features = 120)\n",
    "        self.fully_connected_2 = nn.Linear(in_features = 120, out_features = 60)\n",
    "        self.out = nn.Linear(in_features = 60, out_features = 10)\n",
    "        \n",
    "    def forward(self, n):\n",
    "        n = self.convolutional_1(n)\n",
    "        n = F.relu(n)\n",
    "        n = F.max_pool2d(n, kernel_size = 2, stride = 2)\n",
    "        \n",
    "        n = self.convolutional_2(n)\n",
    "        n = F.relu(n)\n",
    "        n = F.max_pool2d(n, kernel_size = 2, stride = 2)\n",
    "        \n",
    "        n = n.reshape(-1, 12*4*4)\n",
    "        n = self.fully_connected_1(n)\n",
    "        n = F.relu(n)\n",
    "        \n",
    "        n= self.fully_connected_2(n)\n",
    "        n = F.relu(n)\n",
    "        \n",
    "        n = self.out(n)\n",
    "        \n",
    "        \n",
    "        return n"
   ]
  },
  {
   "cell_type": "markdown",
   "metadata": {},
   "source": [
    "### Training "
   ]
  },
  {
   "cell_type": "code",
   "execution_count": null,
   "metadata": {},
   "outputs": [],
   "source": []
  },
  {
   "cell_type": "code",
   "execution_count": 12,
   "metadata": {},
   "outputs": [
    {
     "name": "stdout",
     "output_type": "stream",
     "text": [
      "Epoch 0 Accuracy: 0.93557 loss: 122.7565\n",
      "Epoch 1 Accuracy: 0.97687 loss: 47.4656\n",
      "Epoch 2 Accuracy: 0.98075 loss: 40.3921\n",
      "Epoch 3 Accuracy: 0.98218 loss: 37.4653\n",
      "Epoch 4 Accuracy: 0.98337 loss: 36.3379\n",
      "Epoch 5 Accuracy: 0.98485 loss: 31.8181\n",
      "Epoch 6 Accuracy: 0.98390 loss: 35.7959\n",
      "Epoch 7 Accuracy: 0.98508 loss: 34.7383\n",
      "Epoch 8 Accuracy: 0.98588 loss: 32.4139\n",
      "Epoch 9 Accuracy: 0.98690 loss: 29.8898\n"
     ]
    }
   ],
   "source": [
    "network = Network()\n",
    "\n",
    "batch_size = 100\n",
    "learning_rate = 0.01\n",
    "shuffle = True\n",
    "\n",
    "def correct_predicted(predicted, labels):\n",
    "    return predicted.argmax(dim = 1).eq(labels).sum().item()\n",
    "\n",
    "dataset_loader = torch.utils.data.DataLoader(dataset, batch_size=batch_size, shuffle = shuffle)\n",
    "optimizer = optim.Adam(network.parameters(), lr = learning_rate)\n",
    "\n",
    "images, labels = next(iter(dataset_loader))\n",
    "\n",
    "\n",
    "tensor_board = SummaryWriter(comment = f\"Batch size={batch_size} Learning rate={learning_rate} Shuffle={shuffle}\")\n",
    "\n",
    "for epoch in range(10):\n",
    "    total_loss = 0\n",
    "    total_correct = 0\n",
    "    \n",
    "    for batch in dataset_loader:\n",
    "        images = batch[0]\n",
    "        labels = batch[1]\n",
    "        predicted = network(images)\n",
    "        loss = F.cross_entropy(predicted, labels)\n",
    "        \n",
    "        optimizer.zero_grad()\n",
    "        loss.backward()\n",
    "        optimizer.step()\n",
    "        \n",
    "        total_loss += loss.item()\n",
    "        total_correct += correct_predicted(predicted, labels)\n",
    "    \n",
    "    tensor_board.add_scalar('Loss', total_loss, epoch)\n",
    "    tensor_board.add_scalar('Correct Predictions', total_correct, epoch)\n",
    "    tensor_board.add_scalar('Accuracy', total_correct / len(dataset), epoch)\n",
    "    \n",
    "    tensor_board.add_histogram('convolutional_1.bias', network.convolutional_1.bias, epoch)\n",
    "    tensor_board.add_histogram('convolutional_1.weight', network.convolutional_1.weight, epoch)\n",
    "    tensor_board.add_histogram('convolutional_1.weight.grad' ,network.convolutional_1.weight.grad, epoch)\n",
    "    \n",
    "    print(f\"Epoch {epoch} Accuracy: {total_correct/len(dataset):.5f} loss: {total_loss:.4f}\")\n",
    "    \n",
    "tensor_board.close()"
   ]
  },
  {
   "cell_type": "code",
   "execution_count": null,
   "metadata": {},
   "outputs": [],
   "source": []
  },
  {
   "cell_type": "code",
   "execution_count": null,
   "metadata": {},
   "outputs": [],
   "source": []
  }
 ],
 "metadata": {
  "kernelspec": {
   "display_name": "Python 3",
   "language": "python",
   "name": "python3"
  },
  "language_info": {
   "codemirror_mode": {
    "name": "ipython",
    "version": 3
   },
   "file_extension": ".py",
   "mimetype": "text/x-python",
   "name": "python",
   "nbconvert_exporter": "python",
   "pygments_lexer": "ipython3",
   "version": "3.7.6"
  }
 },
 "nbformat": 4,
 "nbformat_minor": 4
}
